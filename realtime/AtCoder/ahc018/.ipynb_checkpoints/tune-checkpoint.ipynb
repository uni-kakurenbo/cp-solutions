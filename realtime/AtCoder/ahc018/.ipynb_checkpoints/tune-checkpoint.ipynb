{
 "cells": [
  {
   "cell_type": "code",
   "execution_count": null,
   "id": "9bd63539",
   "metadata": {},
   "outputs": [],
   "source": [
    "import statistics\n",
    "import os\n",
    "import joblib\n",
    "import time\n",
    "import optuna\n",
    "\n",
    "\n",
    "n_parallel = 48\n",
    "n_files = 500\n",
    "\n",
    "\n",
    "def calc_score_each(seed: int, l_ratio: float, r_ratio: float):\n",
    "    in_file = f\"in/{seed:04}.txt\"\n",
    "    os.makedirs(\"tools/out\", exist_ok=True)\n",
    "    out_file = f\"out/{seed:04}.txt\"\n",
    "    os.system(f\"./hoge {l_ratio} {r_ratio} < tools/{in_file} > tools/{out_file}\")\n",
    "    cmd = f\"cd tools && cargo run --release --bin vis {in_file} {out_file} 2> /dev/null\"\n",
    "    out = os.popen(cmd)\n",
    "    return int(out.read().split()[-1]) / 1e8\n",
    "\n",
    "\n",
    "def calc_scores(l_ratio: float, r_ratio: float):\n",
    "    scores = joblib.Parallel(n_jobs=n_parallel)(\n",
    "        joblib.delayed(calc_score_each)(i, l_ratio, r_ratio) for i in range(n_files)\n",
    "    )\n",
    "    return scores\n",
    "\n",
    "\n",
    "def objective(trial: optuna.trial.Trial):\n",
    "    start = time.time()\n",
    "    l_ratio = trial.suggest_float(\"l_ratio\", 0.6, 1.4)\n",
    "    r_ratio = trial.suggest_float(\"r_ratio\", 2.6, 3.4)\n",
    "    scores = calc_scores(l_ratio, r_ratio)\n",
    "    print(f\"elapsed: {time.time() - start}\")\n",
    "    return statistics.mean(scores)\n",
    "\n",
    "\n",
    "if __name__ == \"__main__\":\n",
    "    os.system(\"g++ -O2 -std=c++17 main.cpp -o hoge\")\n",
    "    study = optuna.create_study(\n",
    "        direction=\"maximize\",\n",
    "        storage=\"sqlite:///ahc007.db\",\n",
    "        study_name=\"tune_range\",\n",
    "        load_if_exists=True,\n",
    "    )\n",
    "    study.optimize(objective, n_trials=10000)"
   ]
  }
 ],
 "metadata": {
  "kernelspec": {
   "display_name": "Python 3 (ipykernel)",
   "language": "python",
   "name": "python3"
  },
  "language_info": {
   "codemirror_mode": {
    "name": "ipython",
    "version": 3
   },
   "file_extension": ".py",
   "mimetype": "text/x-python",
   "name": "python",
   "nbconvert_exporter": "python",
   "pygments_lexer": "ipython3",
   "version": "3.10.6"
  }
 },
 "nbformat": 4,
 "nbformat_minor": 5
}
